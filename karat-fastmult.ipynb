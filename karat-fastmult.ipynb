{
 "cells": [
  {
   "cell_type": "code",
   "execution_count": 3,
   "metadata": {
    "collapsed": true
   },
   "outputs": [],
   "source": [
    "lookuptable: dict = {\n",
    "    (-1, -1): 1, (-1, 0): 0, (-1, 1): -1,\n",
    "    (0, -1): 0, (0, 0): 0, (0, 1): 0,\n",
    "    (1, -1): -1, (1, 0): 0, (1, 1): 1}\n",
    "def karatsuba(x, y):\n",
    "    n = max(x.bit_length(), y.bit_length())\n",
    "\n",
    "    # trivial\n",
    "    if n <= 1:\n",
    "        return lookuptable[(x, y)]\n",
    "\n",
    "    # divide\n",
    "    k = (n + 1) >> 1\n",
    "    x1 = x >> k\n",
    "    x0 = x - (x1 << k)\n",
    "    y1 = y >> k\n",
    "    y0 = y - (y1 << k)\n",
    "\n",
    "    # recursions\n",
    "    a = karatsuba(x1, y1)\n",
    "    c = karatsuba(x0, y0)\n",
    "    p = karatsuba(x0 + x1, y0 + y1)\n",
    "    b = p - a - c\n",
    "\n",
    "    # conquer\n",
    "    return (a << (n + (n & 1))) + (b << k) + c\n",
    "\n",
    "def isEven(n) :\n",
    "    # n is binary using the bitwise operations\n",
    "    # n&1 is 1, then odd, else even\n",
    "    return not(n & 1)\n",
    "\n",
    "def subtraction_1(n):\n",
    "    # everything binary\n",
    "    return (n << 1) >> 1"
   ]
  },
  {
   "cell_type": "code",
   "execution_count": 4,
   "outputs": [],
   "source": [
    "def fast_exp_3(n):\n",
    "    # all the numbers are in binary form\n",
    "    if n == 0:\n",
    "        return 1\n",
    "    elif not isEven(n) == 1:\n",
    "        return karatsuba(11, subtraction_1(n))\n",
    "    else:\n",
    "        a = n << 1\n",
    "        return fast_exp_3(karatsuba(a, a))\n",
    "\n",
    "def fast_exp_7(n):\n",
    "    # n is binary and all the numbers represented are binary as well\n",
    "    if n == 0:\n",
    "        return 1\n",
    "    elif not isEven(n) == 1:\n",
    "        return karatsuba(111, subtraction_1(n))\n",
    "    else:\n",
    "        a = n << 1\n",
    "        return fast_exp_7(karatsuba(a, a))"
   ],
   "metadata": {
    "collapsed": false,
    "pycharm": {
     "name": "#%%\n"
    }
   }
  },
  {
   "cell_type": "code",
   "execution_count": 7,
   "outputs": [
    {
     "name": "stdout",
     "output_type": "stream",
     "text": [
      "71.5 ms ± 11.6 ms per loop (mean ± std. dev. of 7 runs, 10 loops each)\n"
     ]
    }
   ],
   "source": [
    "%timeit fast_exp_7(fast_exp_7(100011111110100101001010101001010011111100000001101111110000000000000000111111111110100000000011111111111111111111111111010000000000000000000000000001010101000110001100011001100011))"
   ],
   "metadata": {
    "collapsed": false,
    "pycharm": {
     "name": "#%%\n"
    }
   }
  },
  {
   "cell_type": "code",
   "execution_count": null,
   "outputs": [],
   "source": [],
   "metadata": {
    "collapsed": false,
    "pycharm": {
     "name": "#%%\n"
    }
   }
  }
 ],
 "metadata": {
  "kernelspec": {
   "display_name": "Python 3",
   "language": "python",
   "name": "python3"
  },
  "language_info": {
   "codemirror_mode": {
    "name": "ipython",
    "version": 2
   },
   "file_extension": ".py",
   "mimetype": "text/x-python",
   "name": "python",
   "nbconvert_exporter": "python",
   "pygments_lexer": "ipython2",
   "version": "2.7.6"
  }
 },
 "nbformat": 4,
 "nbformat_minor": 0
}